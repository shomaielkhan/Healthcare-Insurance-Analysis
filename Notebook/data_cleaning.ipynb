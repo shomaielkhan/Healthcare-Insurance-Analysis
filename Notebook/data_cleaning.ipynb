{
 "cells": [
  {
   "cell_type": "code",
   "execution_count": 57,
   "id": "62b3ce58-a2e1-4609-8a87-a8a1f30d9162",
   "metadata": {},
   "outputs": [
    {
     "name": "stdout",
     "output_type": "stream",
     "text": [
      "      age     sex     bmi  children smoker     region      charges\n",
      "0      19  female  27.900         0    yes  southwest  16884.92400\n",
      "1      18    male  33.770         1     no  southeast   1725.55230\n",
      "2      28    male  33.000         3     no  southeast   4449.46200\n",
      "3      33    male  22.705         0     no  northwest  21984.47061\n",
      "4      32    male  28.880         0     no  northwest   3866.85520\n",
      "...   ...     ...     ...       ...    ...        ...          ...\n",
      "1333   50    male  30.970         3     no  northwest  10600.54830\n",
      "1334   18  female  31.920         0     no  northeast   2205.98080\n",
      "1335   18  female  36.850         0     no  southeast   1629.83350\n",
      "1336   21  female  25.800         0     no  southwest   2007.94500\n",
      "1337   61  female  29.070         0    yes  northwest  29141.36030\n",
      "\n",
      "[1338 rows x 7 columns]\n"
     ]
    }
   ],
   "source": [
    "import pandas as pd\n",
    "import matplotlib.pyplot as plt\n",
    "import seaborn as sns\n",
    "import numpy as np\n",
    "\n",
    "#load dataset\n",
    "df=pd.read_csv(r\"C:/Users/User-PC/Downloads/Healthcare Cost & Insurance Analysis/insurance.csv\")\n",
    "print(df)\n",
    "#print(df.describe())"
   ]
  },
  {
   "cell_type": "code",
   "execution_count": 7,
   "id": "1e3e3ffe-57a5-4472-b173-3af387fec28d",
   "metadata": {},
   "outputs": [
    {
     "name": "stdout",
     "output_type": "stream",
     "text": [
      "<class 'pandas.core.frame.DataFrame'>\n",
      "RangeIndex: 1338 entries, 0 to 1337\n",
      "Data columns (total 7 columns):\n",
      " #   Column    Non-Null Count  Dtype  \n",
      "---  ------    --------------  -----  \n",
      " 0   age       1338 non-null   int64  \n",
      " 1   sex       1338 non-null   object \n",
      " 2   bmi       1338 non-null   float64\n",
      " 3   children  1338 non-null   int64  \n",
      " 4   smoker    1338 non-null   object \n",
      " 5   region    1338 non-null   object \n",
      " 6   charges   1338 non-null   float64\n",
      "dtypes: float64(2), int64(2), object(3)\n",
      "memory usage: 73.3+ KB\n",
      "None\n"
     ]
    }
   ],
   "source": [
    "print(df.info())"
   ]
  },
  {
   "cell_type": "code",
   "execution_count": 13,
   "id": "2449d373-278c-4429-81f1-c3debdc50540",
   "metadata": {},
   "outputs": [
    {
     "name": "stdout",
     "output_type": "stream",
     "text": [
      "age         0\n",
      "sex         0\n",
      "bmi         0\n",
      "children    0\n",
      "smoker      0\n",
      "region      0\n",
      "charges     0\n",
      "dtype: int64\n",
      "0       False\n",
      "1       False\n",
      "2       False\n",
      "3       False\n",
      "4       False\n",
      "        ...  \n",
      "1333    False\n",
      "1334    False\n",
      "1335    False\n",
      "1336    False\n",
      "1337    False\n",
      "Length: 1338, dtype: bool\n"
     ]
    },
    {
     "ename": "AttributeError",
     "evalue": "'NoneType' object has no attribute 'sum'",
     "output_type": "error",
     "traceback": [
      "\u001b[1;31m---------------------------------------------------------------------------\u001b[0m",
      "\u001b[1;31mAttributeError\u001b[0m                            Traceback (most recent call last)",
      "Cell \u001b[1;32mIn[13], line 4\u001b[0m\n\u001b[0;32m      1\u001b[0m \u001b[38;5;66;03m#Check Null Values\u001b[39;00m\n\u001b[0;32m      2\u001b[0m \u001b[38;5;28mprint\u001b[39m(df\u001b[38;5;241m.\u001b[39misnull()\u001b[38;5;241m.\u001b[39msum())\n\u001b[1;32m----> 4\u001b[0m \u001b[38;5;28mprint\u001b[39m(df\u001b[38;5;241m.\u001b[39mduplicated())\u001b[38;5;241m.\u001b[39msum()\n",
      "\u001b[1;31mAttributeError\u001b[0m: 'NoneType' object has no attribute 'sum'"
     ]
    }
   ],
   "source": [
    "#Check Null Values\n",
    "print(df.isnull().sum())"
   ]
  },
  {
   "cell_type": "code",
   "execution_count": 32,
   "id": "e6a76c4a-7ea7-4050-bd93-9ec6c84b6db7",
   "metadata": {},
   "outputs": [
    {
     "name": "stdout",
     "output_type": "stream",
     "text": [
      "0\n"
     ]
    }
   ],
   "source": [
    "#Check Duplicates\n",
    "duplicate_values=df.duplicated().any()\n",
    "#print(duplicate_values)\n",
    "\n",
    "#Check Row\n",
    "duplicated_row=df[df.duplicated()]\n",
    "#print(duplicated_row)\n",
    "\n",
    "#Based on specific column\n",
    "duplicated_column=df[df.duplicated(subset=[\"smoker\",\"charges\"])]\n",
    "#print(duplicated_column)\n",
    "\n",
    "df=df.drop_duplicates().reset_index(drop=True)\n",
    "print(df.duplicated().sum())"
   ]
  },
  {
   "cell_type": "code",
   "execution_count": 58,
   "id": "a7afb128-a321-4d4e-af42-a99833cedd6a",
   "metadata": {},
   "outputs": [
    {
     "name": "stdout",
     "output_type": "stream",
     "text": [
      "    age  sex  bmi  children  smoker  charges  region_Northwest  \\\n",
      "0    19    0   28         0       1    16885             False   \n",
      "1    18    1   34         1       0     1726             False   \n",
      "2    28    1   33         3       0     4449             False   \n",
      "3    33    1   23         0       0    21984              True   \n",
      "4    32    1   29         0       0     3867              True   \n",
      "5    31    0   26         0       0     3757             False   \n",
      "6    46    0   33         1       0     8241             False   \n",
      "7    37    0   28         3       0     7282              True   \n",
      "8    37    1   30         2       0     6406             False   \n",
      "9    60    0   26         0       0    28923              True   \n",
      "10   25    1   26         0       0     2721             False   \n",
      "11   62    0   26         0       1    27809             False   \n",
      "12   23    1   34         0       0     1827             False   \n",
      "13   56    0   40         0       0    11091             False   \n",
      "14   27    1   42         0       1    39612             False   \n",
      "15   19    1   25         1       0     1837             False   \n",
      "16   52    0   31         1       0    10797             False   \n",
      "17   23    1   24         0       0     2395             False   \n",
      "18   56    1   40         0       0    10602             False   \n",
      "19   30    1   35         0       1    36837             False   \n",
      "20   60    0   36         0       0    13229             False   \n",
      "21   30    0   32         1       0     4150             False   \n",
      "22   18    1   34         0       0     1137             False   \n",
      "23   34    0   32         1       1    37702             False   \n",
      "24   37    1   28         2       0     6204              True   \n",
      "25   59    0   28         3       0    14001             False   \n",
      "26   63    0   23         0       0    14452             False   \n",
      "27   55    0   33         2       0    12269              True   \n",
      "28   23    1   17         1       0     2775              True   \n",
      "29   31    1   36         2       1    38711             False   \n",
      "30   22    1   36         0       1    35586             False   \n",
      "31   18    0   26         0       0     2198             False   \n",
      "32   19    0   29         5       0     4688             False   \n",
      "33   63    1   28         0       0    13770              True   \n",
      "34   28    1   36         1       1    51195             False   \n",
      "35   19    1   20         0       0     1625              True   \n",
      "36   62    0   33         3       0    15612              True   \n",
      "37   26    1   21         0       0     2302             False   \n",
      "38   35    1   37         1       1    39774             False   \n",
      "39   60    1   40         0       1    48173             False   \n",
      "40   24    0   27         0       0     3046             False   \n",
      "41   31    0   37         2       0     4950             False   \n",
      "42   41    1   22         1       0     6272             False   \n",
      "43   37    0   31         2       0     6314             False   \n",
      "44   38    1   37         1       0     6080             False   \n",
      "45   55    1   37         0       0    20630             False   \n",
      "46   18    0   39         2       0     3393             False   \n",
      "47   28    0   35         0       0     3557              True   \n",
      "48   60    0   25         0       0    12630             False   \n",
      "49   36    1   35         1       1    38709             False   \n",
      "\n",
      "    region_Southeast  region_Southwest  \n",
      "0              False              True  \n",
      "1               True             False  \n",
      "2               True             False  \n",
      "3              False             False  \n",
      "4              False             False  \n",
      "5               True             False  \n",
      "6               True             False  \n",
      "7              False             False  \n",
      "8              False             False  \n",
      "9              False             False  \n",
      "10             False             False  \n",
      "11              True             False  \n",
      "12             False              True  \n",
      "13              True             False  \n",
      "14              True             False  \n",
      "15             False              True  \n",
      "16             False             False  \n",
      "17             False             False  \n",
      "18             False              True  \n",
      "19             False              True  \n",
      "20             False             False  \n",
      "21             False              True  \n",
      "22              True             False  \n",
      "23             False             False  \n",
      "24             False             False  \n",
      "25              True             False  \n",
      "26             False             False  \n",
      "27             False             False  \n",
      "28             False             False  \n",
      "29             False              True  \n",
      "30             False              True  \n",
      "31             False             False  \n",
      "32             False              True  \n",
      "33             False             False  \n",
      "34             False              True  \n",
      "35             False             False  \n",
      "36             False             False  \n",
      "37             False              True  \n",
      "38             False             False  \n",
      "39             False              True  \n",
      "40             False             False  \n",
      "41              True             False  \n",
      "42              True             False  \n",
      "43              True             False  \n",
      "44             False             False  \n",
      "45             False              True  \n",
      "46             False             False  \n",
      "47             False             False  \n",
      "48              True             False  \n",
      "49              True             False  \n"
     ]
    }
   ],
   "source": [
    "#Normalize Categorical columns\n",
    "df['charges']=df['charges'].round().astype(int)\n",
    "df['bmi']=df['bmi'].round().astype(int)\n",
    "df['region']= df['region'].str.strip().str.title()\n",
    "\n",
    "#Binary Encoding 'smoker' & 'sex'\n",
    "df['smoker']=df['smoker'].map({'yes': 1, 'no': 0})\n",
    "df['sex']=df['sex'].map({'male': 1, 'female': 0})\n",
    "\n",
    "#hot encoding for 'region'\n",
    "df=pd.get_dummies(df, columns=['region'], drop_first=True)\n",
    "print(df.head(50))"
   ]
  },
  {
   "cell_type": "code",
   "execution_count": 59,
   "id": "62524708-b924-4912-bd98-664cbaaed7d4",
   "metadata": {},
   "outputs": [],
   "source": [
    "df.to_csv(r\"C:/Users/User-PC/Downloads/Healthcare Cost & Insurance Analysis/cleaned_insurance_dataset.csv\", index=False)\n"
   ]
  },
  {
   "cell_type": "code",
   "execution_count": null,
   "id": "965c85b2-31a5-43b8-b093-b377a41af58b",
   "metadata": {},
   "outputs": [],
   "source": []
  }
 ],
 "metadata": {
  "kernelspec": {
   "display_name": "Python 3 (ipykernel)",
   "language": "python",
   "name": "python3"
  },
  "language_info": {
   "codemirror_mode": {
    "name": "ipython",
    "version": 3
   },
   "file_extension": ".py",
   "mimetype": "text/x-python",
   "name": "python",
   "nbconvert_exporter": "python",
   "pygments_lexer": "ipython3",
   "version": "3.12.7"
  }
 },
 "nbformat": 4,
 "nbformat_minor": 5
}
