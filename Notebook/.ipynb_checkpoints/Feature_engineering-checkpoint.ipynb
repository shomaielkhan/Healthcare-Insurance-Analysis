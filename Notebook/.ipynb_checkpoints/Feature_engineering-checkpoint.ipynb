{
 "cells": [
  {
   "cell_type": "code",
   "execution_count": 24,
   "id": "8ca64ed6-c718-4bd5-81ef-367c3f8d09ae",
   "metadata": {},
   "outputs": [
    {
     "name": "stdout",
     "output_type": "stream",
     "text": [
      "      age  sex  bmi  children  smoker  charges  region_Northwest  \\\n",
      "0      19    0   28         0       1    16885             False   \n",
      "1      18    1   34         1       0     1726             False   \n",
      "2      28    1   33         3       0     4449             False   \n",
      "3      33    1   23         0       0    21984              True   \n",
      "4      32    1   29         0       0     3867              True   \n",
      "...   ...  ...  ...       ...     ...      ...               ...   \n",
      "1333   50    1   31         3       0    10601              True   \n",
      "1334   18    0   32         0       0     2206             False   \n",
      "1335   18    0   37         0       0     1630             False   \n",
      "1336   21    0   26         0       0     2008             False   \n",
      "1337   61    0   29         0       1    29141              True   \n",
      "\n",
      "      region_Southeast  region_Southwest  \n",
      "0                False              True  \n",
      "1                 True             False  \n",
      "2                 True             False  \n",
      "3                False             False  \n",
      "4                False             False  \n",
      "...                ...               ...  \n",
      "1333             False             False  \n",
      "1334             False             False  \n",
      "1335              True             False  \n",
      "1336             False              True  \n",
      "1337             False             False  \n",
      "\n",
      "[1338 rows x 9 columns]\n"
     ]
    }
   ],
   "source": [
    "import pandas as pd\n",
    "import numpy as np\n",
    "import matplotlib.pyplot as plt\n",
    "import seaborn as sns\n",
    "\n",
    "#load dataset\n",
    "df=pd.read_csv(r\"C:/Users/User-PC/Downloads/Healthcare Cost & Insurance Analysis/cleaned_insurance_dataset.csv\")\n",
    "print(df)"
   ]
  },
  {
   "cell_type": "code",
   "execution_count": 26,
   "id": "287f9393-9095-4ec9-bd0e-f02bd4e0ece4",
   "metadata": {},
   "outputs": [],
   "source": [
    "#Age_group\n",
    "def age_group(age):\n",
    "    if age <18:\n",
    "        return 'Child'\n",
    "    elif 18<= age < 30:\n",
    "        return 'Young Adult'\n",
    "    elif 35<= age < 50:\n",
    "        return 'Adult'\n",
    "    else:\n",
    "        return 'Senior'\n",
    "\n",
    "df['age_group']=df['age'].apply(age_group)\n",
    "\n"
   ]
  },
  {
   "cell_type": "code",
   "execution_count": 30,
   "id": "2ee6f92c-1dc4-42f8-af8b-4017cf39df32",
   "metadata": {},
   "outputs": [],
   "source": [
    "#BMI Group\n",
    "\n",
    "def bmi_category(bmi):\n",
    "    if bmi < 18:\n",
    "        return 'Under Weight'\n",
    "    elif 18<= bmi <25:\n",
    "        return 'Normal'\n",
    "    elif 25<= bmi <30:\n",
    "        return 'Over Weight'\n",
    "    else:\n",
    "        return 'Obese'\n",
    "        \n",
    "df['bmi_category']=df['bmi'].apply(bmi_category)\n",
    "\n",
    "    "
   ]
  },
  {
   "cell_type": "code",
   "execution_count": 29,
   "id": "b9b908df-7017-4f52-9ebe-65112f4e3c9c",
   "metadata": {},
   "outputs": [],
   "source": [
    "#Health Risk\n",
    "def health_risk(row):\n",
    "    if row['smoker'] == 1 or row['age']> 50 or row['bmi'] > 30:\n",
    "        return 'High'\n",
    "    else:\n",
    "        return 'Low'\n",
    "df['health_risk']= df.apply(health_risk, axis=1)\n"
   ]
  },
  {
   "cell_type": "code",
   "execution_count": 31,
   "id": "e1a9202b-ccd0-4840-b410-aa64b2926e2a",
   "metadata": {},
   "outputs": [
    {
     "name": "stdout",
     "output_type": "stream",
     "text": [
      "      age  sex  bmi  children  smoker  charges  region_Northwest  \\\n",
      "0      19    0   28         0       1    16885             False   \n",
      "1      18    1   34         1       0     1726             False   \n",
      "2      28    1   33         3       0     4449             False   \n",
      "3      33    1   23         0       0    21984              True   \n",
      "4      32    1   29         0       0     3867              True   \n",
      "...   ...  ...  ...       ...     ...      ...               ...   \n",
      "1333   50    1   31         3       0    10601              True   \n",
      "1334   18    0   32         0       0     2206             False   \n",
      "1335   18    0   37         0       0     1630             False   \n",
      "1336   21    0   26         0       0     2008             False   \n",
      "1337   61    0   29         0       1    29141              True   \n",
      "\n",
      "      region_Southeast  region_Southwest    age_group bmi_category health_risk  \n",
      "0                False              True  Young Adult  Over Weight        High  \n",
      "1                 True             False  Young Adult        Obese        High  \n",
      "2                 True             False  Young Adult        Obese        High  \n",
      "3                False             False       Senior       Normal         Low  \n",
      "4                False             False       Senior  Over Weight         Low  \n",
      "...                ...               ...          ...          ...         ...  \n",
      "1333             False             False       Senior        Obese        High  \n",
      "1334             False             False  Young Adult        Obese        High  \n",
      "1335              True             False  Young Adult        Obese        High  \n",
      "1336             False              True  Young Adult  Over Weight         Low  \n",
      "1337             False             False       Senior  Over Weight        High  \n",
      "\n",
      "[1338 rows x 12 columns]\n"
     ]
    }
   ],
   "source": [
    "print(df)"
   ]
  },
  {
   "cell_type": "code",
   "execution_count": 32,
   "id": "4eeb7911-1190-4f9f-9e6b-5e81580a09b9",
   "metadata": {},
   "outputs": [],
   "source": [
    "df.to_csv(r\"C:/Users/User-PC/Downloads/Healthcare Cost & Insurance Analysis/insurance_data_engineered.csv\", index=False)"
   ]
  },
  {
   "cell_type": "code",
   "execution_count": null,
   "id": "ca8afd2a-1234-4ce9-a62e-9bba055c6b49",
   "metadata": {},
   "outputs": [],
   "source": []
  }
 ],
 "metadata": {
  "kernelspec": {
   "display_name": "Python 3 (ipykernel)",
   "language": "python",
   "name": "python3"
  },
  "language_info": {
   "codemirror_mode": {
    "name": "ipython",
    "version": 3
   },
   "file_extension": ".py",
   "mimetype": "text/x-python",
   "name": "python",
   "nbconvert_exporter": "python",
   "pygments_lexer": "ipython3",
   "version": "3.12.7"
  }
 },
 "nbformat": 4,
 "nbformat_minor": 5
}
