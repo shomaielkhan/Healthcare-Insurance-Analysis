{
 "cells": [
  {
   "cell_type": "code",
   "execution_count": 4,
   "id": "8ca64ed6-c718-4bd5-81ef-367c3f8d09ae",
   "metadata": {},
   "outputs": [
    {
     "name": "stdout",
     "output_type": "stream",
     "text": [
      "      age  sex  bmi  children  smoker  charges  region_Northwest  \\\n",
      "0      19    0   28         0       1    16885             False   \n",
      "1      18    1   34         1       0     1726             False   \n",
      "2      28    1   33         3       0     4449             False   \n",
      "3      33    1   23         0       0    21984              True   \n",
      "4      32    1   29         0       0     3867              True   \n",
      "...   ...  ...  ...       ...     ...      ...               ...   \n",
      "1333   50    1   31         3       0    10601              True   \n",
      "1334   18    0   32         0       0     2206             False   \n",
      "1335   18    0   37         0       0     1630             False   \n",
      "1336   21    0   26         0       0     2008             False   \n",
      "1337   61    0   29         0       1    29141              True   \n",
      "\n",
      "      region_Southeast  region_Southwest  \n",
      "0                False              True  \n",
      "1                 True             False  \n",
      "2                 True             False  \n",
      "3                False             False  \n",
      "4                False             False  \n",
      "...                ...               ...  \n",
      "1333             False             False  \n",
      "1334             False             False  \n",
      "1335              True             False  \n",
      "1336             False              True  \n",
      "1337             False             False  \n",
      "\n",
      "[1338 rows x 9 columns]\n"
     ]
    }
   ],
   "source": [
    "import pandas as pd\n",
    "import numpy as np\n",
    "import matplotlib.pyplot as plt\n",
    "import seaborn as sns\n",
    "\n",
    "#load dataset\n",
    "df=pd.read_csv(r\"C:/Users/User-PC/Downloads/Healthcare Cost & Insurance Analysis/cleaned_insurance_dataset.csv\")\n",
    "print(df)"
   ]
  },
  {
   "cell_type": "code",
   "execution_count": 11,
   "id": "287f9393-9095-4ec9-bd0e-f02bd4e0ece4",
   "metadata": {},
   "outputs": [],
   "source": [
    "#Age_group\n",
    "def age_group(age):\n",
    "    if age <18:\n",
    "        return 'Child'\n",
    "    elif 18<= age < 30:\n",
    "        return 'Young Adult'\n",
    "    elif 35<= age < 50:\n",
    "        return 'Adult'\n",
    "    else:\n",
    "        return 'Senior'\n",
    "\n",
    "df['age_group']=df['age'].apply(age_group)\n",
    "\n"
   ]
  },
  {
   "cell_type": "code",
   "execution_count": 12,
   "id": "2ee6f92c-1dc4-42f8-af8b-4017cf39df32",
   "metadata": {},
   "outputs": [],
   "source": [
    "#BMI Group\n",
    "\n",
    "def bmi_category(bmi):\n",
    "    if bmi < 18:\n",
    "        return 'Under Weight'\n",
    "    elif 18<= bmi <25:\n",
    "        return 'Normal'\n",
    "    elif 25<= bmi <30:\n",
    "        return 'Over Weight'\n",
    "    else:\n",
    "        return 'Obese'\n",
    "        \n",
    "df['bmi_category']=df['bmi'].apply(bmi_category)\n",
    "\n",
    "    "
   ]
  },
  {
   "cell_type": "code",
   "execution_count": 13,
   "id": "b9b908df-7017-4f52-9ebe-65112f4e3c9c",
   "metadata": {},
   "outputs": [],
   "source": [
    "#Health Risk\n",
    "def health_risk(row):\n",
    "    if row['smoker'] == 1 or row['age']> 50 or row['bmi'] > 30:\n",
    "        return 'High'\n",
    "    else:\n",
    "        return 'Low'\n",
    "df['health_risk']= df.apply(health_risk, axis=1)\n"
   ]
  },
  {
   "cell_type": "code",
   "execution_count": 14,
   "id": "4eeb7911-1190-4f9f-9e6b-5e81580a09b9",
   "metadata": {},
   "outputs": [
    {
     "name": "stdout",
     "output_type": "stream",
     "text": [
      "      charges  cost_deviation   cost_zscore\n",
      "0       16885     3614.585202  16883.903769\n",
      "1        1726   -11544.414798   1724.903769\n",
      "2        4449    -8821.414798   4447.903769\n",
      "3       21984     8713.585202  21982.903769\n",
      "4        3867    -9403.414798   3865.903769\n",
      "...       ...             ...           ...\n",
      "1333    10601    -2669.414798  10599.903769\n",
      "1334     2206   -11064.414798   2204.903769\n",
      "1335     1630   -11640.414798   1628.903769\n",
      "1336     2008   -11262.414798   2006.903769\n",
      "1337    29141    15870.585202  29139.903769\n",
      "\n",
      "[1338 rows x 3 columns]\n"
     ]
    }
   ],
   "source": [
    "mean_cost=np.mean(df['charges'])\n",
    "std_cost=np.std(df['charges'])\n",
    "\n",
    "#Cost Deviation Calculation\n",
    "df['cost_deviation']= df['charges'] - mean_cost\n",
    "df['cost_zscore']=df['charges'] - mean_cost/std_cost\n",
    "\n",
    "print(df[['charges','cost_deviation','cost_zscore']])\n",
    "\n"
   ]
  },
  {
   "cell_type": "code",
   "execution_count": 16,
   "id": "50d54527-73e6-4eba-8a87-07eb2a59f13d",
   "metadata": {},
   "outputs": [],
   "source": [
    "df.to_csv(r\"C:/Users/User-PC/Downloads/Healthcare Cost & Insurance Analysis/insurance_data_engineered.csv\", index=False)"
   ]
  },
  {
   "cell_type": "code",
   "execution_count": 15,
   "id": "e1a9202b-ccd0-4840-b410-aa64b2926e2a",
   "metadata": {},
   "outputs": [
    {
     "name": "stdout",
     "output_type": "stream",
     "text": [
      "   age  sex  bmi  children  smoker  charges  region_Northwest  \\\n",
      "0   19    0   28         0       1    16885             False   \n",
      "1   18    1   34         1       0     1726             False   \n",
      "2   28    1   33         3       0     4449             False   \n",
      "3   33    1   23         0       0    21984              True   \n",
      "4   32    1   29         0       0     3867              True   \n",
      "\n",
      "   region_Southeast  region_Southwest  cost_deviation   cost_zscore  \\\n",
      "0             False              True     3614.585202  16883.903769   \n",
      "1              True             False   -11544.414798   1724.903769   \n",
      "2              True             False    -8821.414798   4447.903769   \n",
      "3             False             False     8713.585202  21982.903769   \n",
      "4             False             False    -9403.414798   3865.903769   \n",
      "\n",
      "     age_group bmi_category health_risk  \n",
      "0  Young Adult  Over Weight        High  \n",
      "1  Young Adult        Obese        High  \n",
      "2  Young Adult        Obese        High  \n",
      "3       Senior       Normal         Low  \n",
      "4       Senior  Over Weight         Low  \n"
     ]
    }
   ],
   "source": [
    "print(df.head())"
   ]
  },
  {
   "cell_type": "code",
   "execution_count": null,
   "id": "ca8afd2a-1234-4ce9-a62e-9bba055c6b49",
   "metadata": {},
   "outputs": [],
   "source": []
  }
 ],
 "metadata": {
  "kernelspec": {
   "display_name": "Python 3 (ipykernel)",
   "language": "python",
   "name": "python3"
  },
  "language_info": {
   "codemirror_mode": {
    "name": "ipython",
    "version": 3
   },
   "file_extension": ".py",
   "mimetype": "text/x-python",
   "name": "python",
   "nbconvert_exporter": "python",
   "pygments_lexer": "ipython3",
   "version": "3.12.7"
  }
 },
 "nbformat": 4,
 "nbformat_minor": 5
}
