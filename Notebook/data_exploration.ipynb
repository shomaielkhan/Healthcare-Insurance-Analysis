{
 "cells": [
  {
   "cell_type": "code",
   "execution_count": 3,
   "id": "43acfb21-db79-4ff7-b80f-5e099f9daeca",
   "metadata": {},
   "outputs": [
    {
     "name": "stdout",
     "output_type": "stream",
     "text": [
      "          age     sex     bmi  children  smoker  charges\n",
      "count  1338.0  1338.0  1338.0    1338.0  1338.0   1338.0\n",
      "mean     39.0     1.0    31.0       1.0     0.0  13270.0\n",
      "std      14.0     1.0     6.0       1.0     0.0  12110.0\n",
      "min      18.0     0.0    16.0       0.0     0.0   1122.0\n",
      "25%      27.0     0.0    26.0       0.0     0.0   4740.0\n",
      "50%      39.0     1.0    30.0       1.0     0.0   9382.0\n",
      "75%      51.0     1.0    35.0       2.0     0.0  16640.0\n",
      "max      64.0     1.0    53.0       5.0     1.0  63770.0\n"
     ]
    }
   ],
   "source": [
    "import pandas as pd\n",
    "import numpy as np\n",
    "import matplotlib.pyplot as plt\n",
    "import seaborn as sns\n",
    "\n",
    "#load dataset\n",
    "df=pd.read_csv(r\"C:/Users/User-PC/Downloads/Healthcare Cost & Insurance Analysis/cleaned_insurance_dataset.csv\")\n",
    "print(df.describe().round())\n"
   ]
  },
  {
   "cell_type": "code",
   "execution_count": 9,
   "id": "ffb3cba9-f5c5-46e1-a760-610eea5d5492",
   "metadata": {},
   "outputs": [
    {
     "name": "stdout",
     "output_type": "stream",
     "text": [
      "Shape: (1338, 9)\n",
      "Samples        age  sex  bmi  children  smoker  charges  region_Northwest  \\\n",
      "259    19    1   32         0       1    33750              True   \n",
      "477    25    1   36         0       0     2534              True   \n",
      "876    49    0   27         1       0    26140             False   \n",
      "46     18    0   39         2       0     3393             False   \n",
      "1128   34    1   33         1       0    14358             False   \n",
      "\n",
      "      region_Southeast  region_Southwest  \n",
      "259              False             False  \n",
      "477              False             False  \n",
      "876              False              True  \n",
      "46               False             False  \n",
      "1128             False              True  \n"
     ]
    }
   ],
   "source": [
    "print(\"Shape:\",df.shape)\n",
    "print(\"Samples \",df.sample(5))"
   ]
  },
  {
   "cell_type": "code",
   "execution_count": 7,
   "id": "5cc1f46b-576c-427e-8044-786a75e29efc",
   "metadata": {},
   "outputs": [
    {
     "name": "stdout",
     "output_type": "stream",
     "text": [
      "Smoker Distribution smoker\n",
      "0    1064\n",
      "1     274\n",
      "Name: count, dtype: int64\n",
      "Children Distribution children\n",
      "0    574\n",
      "1    324\n",
      "2    240\n",
      "3    157\n",
      "4     25\n",
      "5     18\n",
      "Name: count, dtype: int64\n",
      "\n",
      "Patient's Gender\n",
      " sex\n",
      "0    26151\n",
      "1    26308\n",
      "Name: age, dtype: int64\n",
      "\n",
      "Average BMI\n",
      " 41028\n",
      "\n",
      "Average BMI\n",
      " 30.663677130044842\n"
     ]
    }
   ],
   "source": [
    "#Value Counts for Categorical Features\n",
    "smoker_distribution=df['smoker'].value_counts()\n",
    "print(\"Smoker Distribution\", smoker_distribution)\n",
    "\n",
    "childrens=df['children'].value_counts()\n",
    "print(\"Children Distribution\", childrens)\n",
    "\n",
    "gender=df.groupby('sex')['age'].sum()\n",
    "print(\"\\nPatient's Gender\\n\", gender)\n",
    "\n",
    "age=df['bmi'].sum()\n",
    "print(\"\\nAverage BMI\\n\", age)\n",
    "\n",
    "bmi=df['bmi'].mean()\n",
    "print(\"\\nAverage BMI\\n\", bmi)"
   ]
  },
  {
   "cell_type": "code",
   "execution_count": 10,
   "id": "408e0249-f5dc-4e9b-9eb0-6e0d95d0072d",
   "metadata": {},
   "outputs": [
    {
     "name": "stdout",
     "output_type": "stream",
     "text": [
      "\n",
      "Age group with highest charges:\n",
      "       age  sex  bmi  children  smoker\n",
      "543    54    0   47         0       1\n",
      "1300   45    1   30         0       1\n",
      "1230   52    1   34         3       1\n",
      "577    31    0   38         1       1\n",
      "819    33    0   36         0       1\n",
      "1146   60    1   33         0       1\n",
      "34     28    1   36         1       1\n",
      "1241   64    1   37         2       1\n",
      "1062   59    1   41         1       1\n",
      "488    44    0   38         0       1\n",
      "\n",
      "Age group with lowest charges:\n",
      "       age  sex  bmi  children  smoker\n",
      "940    18    1   23         0       0\n",
      "808    18    1   30         0       0\n",
      "663    18    1   34         0       0\n",
      "1244   18    1   33         0       0\n",
      "22     18    1   34         0       0\n",
      "194    18    1   34         0       0\n",
      "866    18    1   37         0       0\n",
      "781    18    1   41         0       0\n",
      "442    18    1   43         0       0\n",
      "1317   18    1   53         0       0\n"
     ]
    }
   ],
   "source": [
    "#Age grorup with highest or lowest medical charges\n",
    "age_group= df.nlargest(10,'charges')[['age','sex','bmi','children','smoker']]\n",
    "print(\"\\nAge group with highest charges:\\n\", age_group)\n",
    "\n",
    "age_group2= df.nsmallest(10,'charges')[['age','sex','bmi','children','smoker']]\n",
    "print(\"\\nAge group with lowest charges:\\n\", age_group2)"
   ]
  },
  {
   "cell_type": "code",
   "execution_count": null,
   "id": "a8269c9b-b883-404f-8709-14221fdc0b83",
   "metadata": {},
   "outputs": [],
   "source": []
  }
 ],
 "metadata": {
  "kernelspec": {
   "display_name": "Python 3 (ipykernel)",
   "language": "python",
   "name": "python3"
  },
  "language_info": {
   "codemirror_mode": {
    "name": "ipython",
    "version": 3
   },
   "file_extension": ".py",
   "mimetype": "text/x-python",
   "name": "python",
   "nbconvert_exporter": "python",
   "pygments_lexer": "ipython3",
   "version": "3.12.7"
  }
 },
 "nbformat": 4,
 "nbformat_minor": 5
}
